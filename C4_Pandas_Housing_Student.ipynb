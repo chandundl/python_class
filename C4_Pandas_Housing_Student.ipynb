{
 "cells": [
  {
   "cell_type": "code",
   "execution_count": null,
   "metadata": {},
   "outputs": [],
   "source": [
    "# Pandas Data Cleaning and Exploratory Data Analysis (EDA)"
   ]
  },
  {
   "cell_type": "code",
   "execution_count": 241,
   "metadata": {},
   "outputs": [],
   "source": [
    "import pandas as pd\n",
    "import numpy as np"
   ]
  },
  {
   "cell_type": "markdown",
   "metadata": {},
   "source": [
    "## Upload Data"
   ]
  },
  {
   "cell_type": "code",
   "execution_count": 242,
   "metadata": {},
   "outputs": [],
   "source": [
    "housing_header = [\"HomeID\", \"HomeAge\", \"HomeSqft\", \"LotSize\", \"BedRooms\", \n",
    "                  \"HighSchoolAPI\", \"ProxFwy\", \"CarGarage\", \"ZipCode\", \"HomePriceK\"]\n",
    "df = pd.read_csv(\"fixed-housing-data.csv\",names=housing_header)\n",
    "\n",
    "#what does this do?"
   ]
  },
  {
   "cell_type": "code",
   "execution_count": 243,
   "metadata": {},
   "outputs": [
    {
     "data": {
      "text/html": [
       "<div>\n",
       "<style scoped>\n",
       "    .dataframe tbody tr th:only-of-type {\n",
       "        vertical-align: middle;\n",
       "    }\n",
       "\n",
       "    .dataframe tbody tr th {\n",
       "        vertical-align: top;\n",
       "    }\n",
       "\n",
       "    .dataframe thead th {\n",
       "        text-align: right;\n",
       "    }\n",
       "</style>\n",
       "<table border=\"1\" class=\"dataframe\">\n",
       "  <thead>\n",
       "    <tr style=\"text-align: right;\">\n",
       "      <th></th>\n",
       "      <th>HomeID</th>\n",
       "      <th>HomeAge</th>\n",
       "      <th>HomeSqft</th>\n",
       "      <th>LotSize</th>\n",
       "      <th>BedRooms</th>\n",
       "      <th>HighSchoolAPI</th>\n",
       "      <th>ProxFwy</th>\n",
       "      <th>CarGarage</th>\n",
       "      <th>ZipCode</th>\n",
       "      <th>HomePriceK</th>\n",
       "    </tr>\n",
       "  </thead>\n",
       "  <tbody>\n",
       "    <tr>\n",
       "      <th>0</th>\n",
       "      <td>1</td>\n",
       "      <td>24</td>\n",
       "      <td>1757</td>\n",
       "      <td>6056</td>\n",
       "      <td>2</td>\n",
       "      <td>899</td>\n",
       "      <td>3</td>\n",
       "      <td>3</td>\n",
       "      <td>94085</td>\n",
       "      <td>894</td>\n",
       "    </tr>\n",
       "    <tr>\n",
       "      <th>1</th>\n",
       "      <td>2</td>\n",
       "      <td>10</td>\n",
       "      <td>1563</td>\n",
       "      <td>6085</td>\n",
       "      <td>2</td>\n",
       "      <td>959</td>\n",
       "      <td>4</td>\n",
       "      <td>3</td>\n",
       "      <td>94085</td>\n",
       "      <td>861</td>\n",
       "    </tr>\n",
       "    <tr>\n",
       "      <th>2</th>\n",
       "      <td>3</td>\n",
       "      <td>14</td>\n",
       "      <td>1344</td>\n",
       "      <td>6089</td>\n",
       "      <td>2</td>\n",
       "      <td>865</td>\n",
       "      <td>4</td>\n",
       "      <td>3</td>\n",
       "      <td>94085</td>\n",
       "      <td>831</td>\n",
       "    </tr>\n",
       "    <tr>\n",
       "      <th>3</th>\n",
       "      <td>4</td>\n",
       "      <td>14</td>\n",
       "      <td>1215</td>\n",
       "      <td>6129</td>\n",
       "      <td>3</td>\n",
       "      <td>959</td>\n",
       "      <td>4</td>\n",
       "      <td>2</td>\n",
       "      <td>94085</td>\n",
       "      <td>809</td>\n",
       "    </tr>\n",
       "    <tr>\n",
       "      <th>4</th>\n",
       "      <td>5</td>\n",
       "      <td>24</td>\n",
       "      <td>1866</td>\n",
       "      <td>6141</td>\n",
       "      <td>3</td>\n",
       "      <td>877</td>\n",
       "      <td>4</td>\n",
       "      <td>1</td>\n",
       "      <td>94085</td>\n",
       "      <td>890</td>\n",
       "    </tr>\n",
       "  </tbody>\n",
       "</table>\n",
       "</div>"
      ],
      "text/plain": [
       "   HomeID  HomeAge  HomeSqft  LotSize  BedRooms  HighSchoolAPI  ProxFwy  \\\n",
       "0       1       24      1757     6056         2            899        3   \n",
       "1       2       10      1563     6085         2            959        4   \n",
       "2       3       14      1344     6089         2            865        4   \n",
       "3       4       14      1215     6129         3            959        4   \n",
       "4       5       24      1866     6141         3            877        4   \n",
       "\n",
       "   CarGarage  ZipCode  HomePriceK  \n",
       "0          3    94085         894  \n",
       "1          3    94085         861  \n",
       "2          3    94085         831  \n",
       "3          2    94085         809  \n",
       "4          1    94085         890  "
      ]
     },
     "execution_count": 243,
     "metadata": {},
     "output_type": "execute_result"
    }
   ],
   "source": [
    "df.head()"
   ]
  },
  {
   "cell_type": "markdown",
   "metadata": {},
   "source": [
    "Why did we only want to display the first 5 rows of the dataframe?\n",
    "\n",
    "What if we wanted to see the size of this dataframe?"
   ]
  },
  {
   "cell_type": "code",
   "execution_count": 244,
   "metadata": {},
   "outputs": [
    {
     "data": {
      "text/plain": [
       "100"
      ]
     },
     "execution_count": 244,
     "metadata": {},
     "output_type": "execute_result"
    }
   ],
   "source": [
    "# number of rows\n",
    "len(df)"
   ]
  },
  {
   "cell_type": "code",
   "execution_count": 245,
   "metadata": {},
   "outputs": [
    {
     "data": {
      "text/plain": [
       "(100, 10)"
      ]
     },
     "execution_count": 245,
     "metadata": {},
     "output_type": "execute_result"
    }
   ],
   "source": [
    "# shape of df (rows, columns)\n",
    "df.shape"
   ]
  },
  {
   "cell_type": "markdown",
   "metadata": {},
   "source": [
    "## Change Column Name(s)"
   ]
  },
  {
   "cell_type": "markdown",
   "metadata": {},
   "source": [
    "Why would we want to change the column names?"
   ]
  },
  {
   "cell_type": "code",
   "execution_count": 246,
   "metadata": {},
   "outputs": [
    {
     "data": {
      "text/html": [
       "<div>\n",
       "<style scoped>\n",
       "    .dataframe tbody tr th:only-of-type {\n",
       "        vertical-align: middle;\n",
       "    }\n",
       "\n",
       "    .dataframe tbody tr th {\n",
       "        vertical-align: top;\n",
       "    }\n",
       "\n",
       "    .dataframe thead th {\n",
       "        text-align: right;\n",
       "    }\n",
       "</style>\n",
       "<table border=\"1\" class=\"dataframe\">\n",
       "  <thead>\n",
       "    <tr style=\"text-align: right;\">\n",
       "      <th></th>\n",
       "      <th>HomeID</th>\n",
       "      <th>HomeAge</th>\n",
       "      <th>HomeSqft</th>\n",
       "      <th>LotSize</th>\n",
       "      <th>BedRooms</th>\n",
       "      <th>SchoolAPI</th>\n",
       "      <th>ProxFwy</th>\n",
       "      <th>CarGarage</th>\n",
       "      <th>ZipCode</th>\n",
       "      <th>HomePriceK</th>\n",
       "    </tr>\n",
       "  </thead>\n",
       "  <tbody>\n",
       "    <tr>\n",
       "      <th>0</th>\n",
       "      <td>1</td>\n",
       "      <td>24</td>\n",
       "      <td>1757</td>\n",
       "      <td>6056</td>\n",
       "      <td>2</td>\n",
       "      <td>899</td>\n",
       "      <td>3</td>\n",
       "      <td>3</td>\n",
       "      <td>94085</td>\n",
       "      <td>894</td>\n",
       "    </tr>\n",
       "    <tr>\n",
       "      <th>1</th>\n",
       "      <td>2</td>\n",
       "      <td>10</td>\n",
       "      <td>1563</td>\n",
       "      <td>6085</td>\n",
       "      <td>2</td>\n",
       "      <td>959</td>\n",
       "      <td>4</td>\n",
       "      <td>3</td>\n",
       "      <td>94085</td>\n",
       "      <td>861</td>\n",
       "    </tr>\n",
       "    <tr>\n",
       "      <th>2</th>\n",
       "      <td>3</td>\n",
       "      <td>14</td>\n",
       "      <td>1344</td>\n",
       "      <td>6089</td>\n",
       "      <td>2</td>\n",
       "      <td>865</td>\n",
       "      <td>4</td>\n",
       "      <td>3</td>\n",
       "      <td>94085</td>\n",
       "      <td>831</td>\n",
       "    </tr>\n",
       "    <tr>\n",
       "      <th>3</th>\n",
       "      <td>4</td>\n",
       "      <td>14</td>\n",
       "      <td>1215</td>\n",
       "      <td>6129</td>\n",
       "      <td>3</td>\n",
       "      <td>959</td>\n",
       "      <td>4</td>\n",
       "      <td>2</td>\n",
       "      <td>94085</td>\n",
       "      <td>809</td>\n",
       "    </tr>\n",
       "    <tr>\n",
       "      <th>4</th>\n",
       "      <td>5</td>\n",
       "      <td>24</td>\n",
       "      <td>1866</td>\n",
       "      <td>6141</td>\n",
       "      <td>3</td>\n",
       "      <td>877</td>\n",
       "      <td>4</td>\n",
       "      <td>1</td>\n",
       "      <td>94085</td>\n",
       "      <td>890</td>\n",
       "    </tr>\n",
       "  </tbody>\n",
       "</table>\n",
       "</div>"
      ],
      "text/plain": [
       "   HomeID  HomeAge  HomeSqft  LotSize  BedRooms  SchoolAPI  ProxFwy  \\\n",
       "0       1       24      1757     6056         2        899        3   \n",
       "1       2       10      1563     6085         2        959        4   \n",
       "2       3       14      1344     6089         2        865        4   \n",
       "3       4       14      1215     6129         3        959        4   \n",
       "4       5       24      1866     6141         3        877        4   \n",
       "\n",
       "   CarGarage  ZipCode  HomePriceK  \n",
       "0          3    94085         894  \n",
       "1          3    94085         861  \n",
       "2          3    94085         831  \n",
       "3          2    94085         809  \n",
       "4          1    94085         890  "
      ]
     },
     "execution_count": 246,
     "metadata": {},
     "output_type": "execute_result"
    }
   ],
   "source": [
    "df = df.rename(columns={'HighSchoolAPI': 'SchoolAPI'})\n",
    "df.head()\n",
    "#df.head(5)"
   ]
  },
  {
   "cell_type": "markdown",
   "metadata": {},
   "source": [
    "## Create New Columns"
   ]
  },
  {
   "cell_type": "markdown",
   "metadata": {},
   "source": [
    "What is new information about \"Block_Location\" that we can actually use and save?\n",
    "\n",
    "Let's create new columns for the information we extracted from those values."
   ]
  },
  {
   "cell_type": "code",
   "execution_count": 247,
   "metadata": {},
   "outputs": [
    {
     "data": {
      "text/html": [
       "<div>\n",
       "<style scoped>\n",
       "    .dataframe tbody tr th:only-of-type {\n",
       "        vertical-align: middle;\n",
       "    }\n",
       "\n",
       "    .dataframe tbody tr th {\n",
       "        vertical-align: top;\n",
       "    }\n",
       "\n",
       "    .dataframe thead th {\n",
       "        text-align: right;\n",
       "    }\n",
       "</style>\n",
       "<table border=\"1\" class=\"dataframe\">\n",
       "  <thead>\n",
       "    <tr style=\"text-align: right;\">\n",
       "      <th></th>\n",
       "      <th>HomeID</th>\n",
       "      <th>HomeAge</th>\n",
       "      <th>HomeSqft</th>\n",
       "      <th>LotSize</th>\n",
       "      <th>BedRooms</th>\n",
       "      <th>SchoolAPI</th>\n",
       "      <th>ProxFwy</th>\n",
       "      <th>CarGarage</th>\n",
       "      <th>ZipCode</th>\n",
       "      <th>HomePriceK</th>\n",
       "      <th>Price2019</th>\n",
       "    </tr>\n",
       "  </thead>\n",
       "  <tbody>\n",
       "    <tr>\n",
       "      <th>0</th>\n",
       "      <td>1</td>\n",
       "      <td>24</td>\n",
       "      <td>1757</td>\n",
       "      <td>6056</td>\n",
       "      <td>2</td>\n",
       "      <td>899</td>\n",
       "      <td>3</td>\n",
       "      <td>3</td>\n",
       "      <td>94085</td>\n",
       "      <td>894</td>\n",
       "      <td>929.76</td>\n",
       "    </tr>\n",
       "    <tr>\n",
       "      <th>1</th>\n",
       "      <td>2</td>\n",
       "      <td>10</td>\n",
       "      <td>1563</td>\n",
       "      <td>6085</td>\n",
       "      <td>2</td>\n",
       "      <td>959</td>\n",
       "      <td>4</td>\n",
       "      <td>3</td>\n",
       "      <td>94085</td>\n",
       "      <td>861</td>\n",
       "      <td>895.44</td>\n",
       "    </tr>\n",
       "    <tr>\n",
       "      <th>2</th>\n",
       "      <td>3</td>\n",
       "      <td>14</td>\n",
       "      <td>1344</td>\n",
       "      <td>6089</td>\n",
       "      <td>2</td>\n",
       "      <td>865</td>\n",
       "      <td>4</td>\n",
       "      <td>3</td>\n",
       "      <td>94085</td>\n",
       "      <td>831</td>\n",
       "      <td>864.24</td>\n",
       "    </tr>\n",
       "    <tr>\n",
       "      <th>3</th>\n",
       "      <td>4</td>\n",
       "      <td>14</td>\n",
       "      <td>1215</td>\n",
       "      <td>6129</td>\n",
       "      <td>3</td>\n",
       "      <td>959</td>\n",
       "      <td>4</td>\n",
       "      <td>2</td>\n",
       "      <td>94085</td>\n",
       "      <td>809</td>\n",
       "      <td>841.36</td>\n",
       "    </tr>\n",
       "    <tr>\n",
       "      <th>4</th>\n",
       "      <td>5</td>\n",
       "      <td>24</td>\n",
       "      <td>1866</td>\n",
       "      <td>6141</td>\n",
       "      <td>3</td>\n",
       "      <td>877</td>\n",
       "      <td>4</td>\n",
       "      <td>1</td>\n",
       "      <td>94085</td>\n",
       "      <td>890</td>\n",
       "      <td>925.60</td>\n",
       "    </tr>\n",
       "  </tbody>\n",
       "</table>\n",
       "</div>"
      ],
      "text/plain": [
       "   HomeID  HomeAge  HomeSqft  LotSize  BedRooms  SchoolAPI  ProxFwy  \\\n",
       "0       1       24      1757     6056         2        899        3   \n",
       "1       2       10      1563     6085         2        959        4   \n",
       "2       3       14      1344     6089         2        865        4   \n",
       "3       4       14      1215     6129         3        959        4   \n",
       "4       5       24      1866     6141         3        877        4   \n",
       "\n",
       "   CarGarage  ZipCode  HomePriceK  Price2019  \n",
       "0          3    94085         894     929.76  \n",
       "1          3    94085         861     895.44  \n",
       "2          3    94085         831     864.24  \n",
       "3          2    94085         809     841.36  \n",
       "4          1    94085         890     925.60  "
      ]
     },
     "execution_count": 247,
     "metadata": {},
     "output_type": "execute_result"
    }
   ],
   "source": [
    "prices_2019 = [(price * 1.04) for price in df[\"HomePriceK\"]]\n",
    "df[\"Price2019\"] = prices_2019\n",
    "#Check if it worked\n",
    "df.head()"
   ]
  },
  {
   "cell_type": "markdown",
   "metadata": {},
   "source": [
    "## Drop Columns"
   ]
  },
  {
   "cell_type": "code",
   "execution_count": 248,
   "metadata": {},
   "outputs": [
    {
     "data": {
      "text/html": [
       "<div>\n",
       "<style scoped>\n",
       "    .dataframe tbody tr th:only-of-type {\n",
       "        vertical-align: middle;\n",
       "    }\n",
       "\n",
       "    .dataframe tbody tr th {\n",
       "        vertical-align: top;\n",
       "    }\n",
       "\n",
       "    .dataframe thead th {\n",
       "        text-align: right;\n",
       "    }\n",
       "</style>\n",
       "<table border=\"1\" class=\"dataframe\">\n",
       "  <thead>\n",
       "    <tr style=\"text-align: right;\">\n",
       "      <th></th>\n",
       "      <th>HomeID</th>\n",
       "      <th>HomeAge</th>\n",
       "      <th>HomeSqft</th>\n",
       "      <th>LotSize</th>\n",
       "      <th>BedRooms</th>\n",
       "      <th>SchoolAPI</th>\n",
       "      <th>CarGarage</th>\n",
       "      <th>ZipCode</th>\n",
       "      <th>HomePriceK</th>\n",
       "      <th>Price2019</th>\n",
       "    </tr>\n",
       "  </thead>\n",
       "  <tbody>\n",
       "    <tr>\n",
       "      <th>0</th>\n",
       "      <td>1</td>\n",
       "      <td>24</td>\n",
       "      <td>1757</td>\n",
       "      <td>6056</td>\n",
       "      <td>2</td>\n",
       "      <td>899</td>\n",
       "      <td>3</td>\n",
       "      <td>94085</td>\n",
       "      <td>894</td>\n",
       "      <td>929.76</td>\n",
       "    </tr>\n",
       "    <tr>\n",
       "      <th>1</th>\n",
       "      <td>2</td>\n",
       "      <td>10</td>\n",
       "      <td>1563</td>\n",
       "      <td>6085</td>\n",
       "      <td>2</td>\n",
       "      <td>959</td>\n",
       "      <td>3</td>\n",
       "      <td>94085</td>\n",
       "      <td>861</td>\n",
       "      <td>895.44</td>\n",
       "    </tr>\n",
       "    <tr>\n",
       "      <th>2</th>\n",
       "      <td>3</td>\n",
       "      <td>14</td>\n",
       "      <td>1344</td>\n",
       "      <td>6089</td>\n",
       "      <td>2</td>\n",
       "      <td>865</td>\n",
       "      <td>3</td>\n",
       "      <td>94085</td>\n",
       "      <td>831</td>\n",
       "      <td>864.24</td>\n",
       "    </tr>\n",
       "    <tr>\n",
       "      <th>3</th>\n",
       "      <td>4</td>\n",
       "      <td>14</td>\n",
       "      <td>1215</td>\n",
       "      <td>6129</td>\n",
       "      <td>3</td>\n",
       "      <td>959</td>\n",
       "      <td>2</td>\n",
       "      <td>94085</td>\n",
       "      <td>809</td>\n",
       "      <td>841.36</td>\n",
       "    </tr>\n",
       "    <tr>\n",
       "      <th>4</th>\n",
       "      <td>5</td>\n",
       "      <td>24</td>\n",
       "      <td>1866</td>\n",
       "      <td>6141</td>\n",
       "      <td>3</td>\n",
       "      <td>877</td>\n",
       "      <td>1</td>\n",
       "      <td>94085</td>\n",
       "      <td>890</td>\n",
       "      <td>925.60</td>\n",
       "    </tr>\n",
       "  </tbody>\n",
       "</table>\n",
       "</div>"
      ],
      "text/plain": [
       "   HomeID  HomeAge  HomeSqft  LotSize  BedRooms  SchoolAPI  CarGarage  \\\n",
       "0       1       24      1757     6056         2        899          3   \n",
       "1       2       10      1563     6085         2        959          3   \n",
       "2       3       14      1344     6089         2        865          3   \n",
       "3       4       14      1215     6129         3        959          2   \n",
       "4       5       24      1866     6141         3        877          1   \n",
       "\n",
       "   ZipCode  HomePriceK  Price2019  \n",
       "0    94085         894     929.76  \n",
       "1    94085         861     895.44  \n",
       "2    94085         831     864.24  \n",
       "3    94085         809     841.36  \n",
       "4    94085         890     925.60  "
      ]
     },
     "execution_count": 248,
     "metadata": {},
     "output_type": "execute_result"
    }
   ],
   "source": [
    "df = df.drop(\"ProxFwy\", axis = 1)\n",
    "#Check if it dropped\n",
    "df.head()"
   ]
  },
  {
   "cell_type": "code",
   "execution_count": null,
   "metadata": {},
   "outputs": [],
   "source": []
  },
  {
   "cell_type": "code",
   "execution_count": 249,
   "metadata": {},
   "outputs": [
    {
     "data": {
      "text/plain": [
       "array([94085, 95051, 94087, 95014])"
      ]
     },
     "execution_count": 249,
     "metadata": {},
     "output_type": "execute_result"
    }
   ],
   "source": [
    "df.ZipCode.unique()\n",
    "#df['ZipCode'].unique()"
   ]
  },
  {
   "cell_type": "code",
   "execution_count": 250,
   "metadata": {},
   "outputs": [
    {
     "data": {
      "text/plain": [
       "array([3, 2, 1, 0])"
      ]
     },
     "execution_count": 250,
     "metadata": {},
     "output_type": "execute_result"
    }
   ],
   "source": [
    "df[\"CarGarage\"].unique()"
   ]
  },
  {
   "cell_type": "markdown",
   "metadata": {},
   "source": [
    "# EXPLORATORY DATA ANALYSIS\n",
    "\n",
    "<h3>\"Exploratory data analysis or 'EDA' is a <b>critical</b> beginning step in analyzing the data from an experiment.</h3>\n",
    "\n",
    "<b>Here are the main reasons we use EDA:</b>\n",
    "<ul>\n",
    "• detection of mistakes<br><br>\n",
    "• checking of assumptions<br><br>\n",
    "• preliminary selection of appropriate models<br><br>\n",
    "• determining relationships among the explanatory variables, and<br><br>\n",
    "• assessing the direction and rough size of relationships between explanatory and outcome variables.\"</ul>\n"
   ]
  },
  {
   "cell_type": "markdown",
   "metadata": {},
   "source": [
    "## Now what?\n",
    "\n",
    "We have cleaned our data to the best of our ability based on the initial look. Now let's try to look at the <b>relationships</b> between different values. "
   ]
  },
  {
   "cell_type": "code",
   "execution_count": 251,
   "metadata": {},
   "outputs": [
    {
     "data": {
      "text/html": [
       "<div>\n",
       "<style scoped>\n",
       "    .dataframe tbody tr th:only-of-type {\n",
       "        vertical-align: middle;\n",
       "    }\n",
       "\n",
       "    .dataframe tbody tr th {\n",
       "        vertical-align: top;\n",
       "    }\n",
       "\n",
       "    .dataframe thead th {\n",
       "        text-align: right;\n",
       "    }\n",
       "</style>\n",
       "<table border=\"1\" class=\"dataframe\">\n",
       "  <thead>\n",
       "    <tr style=\"text-align: right;\">\n",
       "      <th></th>\n",
       "      <th>HomeID</th>\n",
       "      <th>HomeAge</th>\n",
       "      <th>HomeSqft</th>\n",
       "      <th>LotSize</th>\n",
       "      <th>BedRooms</th>\n",
       "      <th>SchoolAPI</th>\n",
       "      <th>CarGarage</th>\n",
       "      <th>ZipCode</th>\n",
       "      <th>HomePriceK</th>\n",
       "      <th>Price2019</th>\n",
       "    </tr>\n",
       "  </thead>\n",
       "  <tbody>\n",
       "    <tr>\n",
       "      <th>0</th>\n",
       "      <td>1</td>\n",
       "      <td>24</td>\n",
       "      <td>1757</td>\n",
       "      <td>6056</td>\n",
       "      <td>2</td>\n",
       "      <td>899</td>\n",
       "      <td>3</td>\n",
       "      <td>94085</td>\n",
       "      <td>894</td>\n",
       "      <td>929.76</td>\n",
       "    </tr>\n",
       "    <tr>\n",
       "      <th>1</th>\n",
       "      <td>2</td>\n",
       "      <td>10</td>\n",
       "      <td>1563</td>\n",
       "      <td>6085</td>\n",
       "      <td>2</td>\n",
       "      <td>959</td>\n",
       "      <td>3</td>\n",
       "      <td>94085</td>\n",
       "      <td>861</td>\n",
       "      <td>895.44</td>\n",
       "    </tr>\n",
       "    <tr>\n",
       "      <th>2</th>\n",
       "      <td>3</td>\n",
       "      <td>14</td>\n",
       "      <td>1344</td>\n",
       "      <td>6089</td>\n",
       "      <td>2</td>\n",
       "      <td>865</td>\n",
       "      <td>3</td>\n",
       "      <td>94085</td>\n",
       "      <td>831</td>\n",
       "      <td>864.24</td>\n",
       "    </tr>\n",
       "    <tr>\n",
       "      <th>3</th>\n",
       "      <td>4</td>\n",
       "      <td>14</td>\n",
       "      <td>1215</td>\n",
       "      <td>6129</td>\n",
       "      <td>3</td>\n",
       "      <td>959</td>\n",
       "      <td>2</td>\n",
       "      <td>94085</td>\n",
       "      <td>809</td>\n",
       "      <td>841.36</td>\n",
       "    </tr>\n",
       "    <tr>\n",
       "      <th>4</th>\n",
       "      <td>5</td>\n",
       "      <td>24</td>\n",
       "      <td>1866</td>\n",
       "      <td>6141</td>\n",
       "      <td>3</td>\n",
       "      <td>877</td>\n",
       "      <td>1</td>\n",
       "      <td>94085</td>\n",
       "      <td>890</td>\n",
       "      <td>925.60</td>\n",
       "    </tr>\n",
       "  </tbody>\n",
       "</table>\n",
       "</div>"
      ],
      "text/plain": [
       "   HomeID  HomeAge  HomeSqft  LotSize  BedRooms  SchoolAPI  CarGarage  \\\n",
       "0       1       24      1757     6056         2        899          3   \n",
       "1       2       10      1563     6085         2        959          3   \n",
       "2       3       14      1344     6089         2        865          3   \n",
       "3       4       14      1215     6129         3        959          2   \n",
       "4       5       24      1866     6141         3        877          1   \n",
       "\n",
       "   ZipCode  HomePriceK  Price2019  \n",
       "0    94085         894     929.76  \n",
       "1    94085         861     895.44  \n",
       "2    94085         831     864.24  \n",
       "3    94085         809     841.36  \n",
       "4    94085         890     925.60  "
      ]
     },
     "execution_count": 251,
     "metadata": {},
     "output_type": "execute_result"
    }
   ],
   "source": [
    "df.head()"
   ]
  },
  {
   "cell_type": "markdown",
   "metadata": {},
   "source": [
    "Let's look at the different types of offenses that were called in. We know that using the .unique() function will return all the unique values in the column, but what if we wanted to also <b>count</b> the different times each unique value appeared?"
   ]
  },
  {
   "cell_type": "code",
   "execution_count": 252,
   "metadata": {},
   "outputs": [
    {
     "data": {
      "text/plain": [
       "95051    25\n",
       "95014    25\n",
       "94087    25\n",
       "94085    25\n",
       "Name: ZipCode, dtype: int64"
      ]
     },
     "execution_count": 252,
     "metadata": {},
     "output_type": "execute_result"
    }
   ],
   "source": [
    "df.ZipCode.value_counts()"
   ]
  },
  {
   "cell_type": "code",
   "execution_count": 253,
   "metadata": {},
   "outputs": [
    {
     "data": {
      "text/plain": [
       "3    32\n",
       "0    31\n",
       "2    19\n",
       "1    18\n",
       "Name: CarGarage, dtype: int64"
      ]
     },
     "execution_count": 253,
     "metadata": {},
     "output_type": "execute_result"
    }
   ],
   "source": [
    "df.CarGarage.value_counts()"
   ]
  },
  {
   "cell_type": "markdown",
   "metadata": {},
   "source": [
    "Why is \"LARCENY\" a higher occurence in the \"EVENTDESC\" column, if when we looked into the \"OFFENSE\" column, \"BURGLARY - VEHICLE\" is first? Let's look into this a little more.\n",
    "\n",
    "\n",
    "## GroupBy "
   ]
  },
  {
   "cell_type": "code",
   "execution_count": 254,
   "metadata": {},
   "outputs": [
    {
     "name": "stdout",
     "output_type": "stream",
     "text": [
      "                   CarGarage\n",
      "ZipCode CarGarage           \n",
      "94085   3                  8\n",
      "        1                  7\n",
      "        2                  6\n",
      "        0                  4\n",
      "94087   0                  9\n",
      "        1                  7\n",
      "        3                  5\n",
      "        2                  4\n",
      "95014   3                 11\n",
      "        0                  9\n",
      "        2                  3\n",
      "        1                  2\n",
      "95051   0                  9\n",
      "        3                  8\n",
      "        2                  6\n",
      "        1                  2\n"
     ]
    }
   ],
   "source": [
    "df1 = df.groupby(\"ZipCode\").CarGarage.value_counts().to_frame()\n",
    "#df1 = df.groupby(\"ZipCode\").CarGarage.value_counts()\n",
    "print(df1)"
   ]
  },
  {
   "cell_type": "markdown",
   "metadata": {},
   "source": [
    "## More about GROUP BY\n",
    "\"This grouped variable is now a GroupBy object. It has not actually computed anything yet except for some intermediate data about the group key df['key1']. The idea is that this object has all of the information needed to then apply some operation to each of the groups.\" - Python for Data Analysis"
   ]
  },
  {
   "cell_type": "code",
   "execution_count": 255,
   "metadata": {},
   "outputs": [
    {
     "data": {
      "text/plain": [
       "<pandas.core.groupby.groupby.DataFrameGroupBy object at 0x1134682e8>"
      ]
     },
     "execution_count": 255,
     "metadata": {},
     "output_type": "execute_result"
    }
   ],
   "source": [
    "#Use list() to show what a grouping looks like\n",
    "\n",
    "df.groupby(\"ZipCode\")"
   ]
  },
  {
   "cell_type": "markdown",
   "metadata": {},
   "source": [
    "Descriptive statistics by group"
   ]
  },
  {
   "cell_type": "code",
   "execution_count": 256,
   "metadata": {},
   "outputs": [
    {
     "data": {
      "text/plain": [
       "{94085: Int64Index([ 0,  1,  2,  3,  4,  5,  6,  7,  8,  9, 10, 11, 12, 13, 14, 16, 17,\n",
       "             19, 20, 21, 22, 24, 25, 26, 28],\n",
       "            dtype='int64'),\n",
       " 94087: Int64Index([40, 41, 45, 47, 48, 53, 55, 56, 57, 59, 60, 61, 62, 63, 64, 66, 67,\n",
       "             68, 69, 71, 74, 75, 77, 78, 79],\n",
       "            dtype='int64'),\n",
       " 95014: Int64Index([65, 70, 72, 73, 76, 80, 81, 82, 83, 84, 85, 86, 87, 88, 89, 90, 91,\n",
       "             92, 93, 94, 95, 96, 97, 98, 99],\n",
       "            dtype='int64'),\n",
       " 95051: Int64Index([15, 18, 23, 27, 29, 30, 31, 32, 33, 34, 35, 36, 37, 38, 39, 42, 43,\n",
       "             44, 46, 49, 50, 51, 52, 54, 58],\n",
       "            dtype='int64')}"
      ]
     },
     "execution_count": 256,
     "metadata": {},
     "output_type": "execute_result"
    }
   ],
   "source": [
    "#returns a dict of your groups\n",
    "df.groupby(\"ZipCode\").groups"
   ]
  },
  {
   "cell_type": "code",
   "execution_count": 257,
   "metadata": {},
   "outputs": [
    {
     "data": {
      "text/html": [
       "<div>\n",
       "<style scoped>\n",
       "    .dataframe tbody tr th:only-of-type {\n",
       "        vertical-align: middle;\n",
       "    }\n",
       "\n",
       "    .dataframe tbody tr th {\n",
       "        vertical-align: top;\n",
       "    }\n",
       "\n",
       "    .dataframe thead th {\n",
       "        text-align: right;\n",
       "    }\n",
       "</style>\n",
       "<table border=\"1\" class=\"dataframe\">\n",
       "  <thead>\n",
       "    <tr style=\"text-align: right;\">\n",
       "      <th></th>\n",
       "      <th>count</th>\n",
       "      <th>mean</th>\n",
       "      <th>std</th>\n",
       "      <th>min</th>\n",
       "      <th>25%</th>\n",
       "      <th>50%</th>\n",
       "      <th>75%</th>\n",
       "      <th>max</th>\n",
       "    </tr>\n",
       "    <tr>\n",
       "      <th>ZipCode</th>\n",
       "      <th></th>\n",
       "      <th></th>\n",
       "      <th></th>\n",
       "      <th></th>\n",
       "      <th></th>\n",
       "      <th></th>\n",
       "      <th></th>\n",
       "      <th></th>\n",
       "    </tr>\n",
       "  </thead>\n",
       "  <tbody>\n",
       "    <tr>\n",
       "      <th>94085</th>\n",
       "      <td>25.0</td>\n",
       "      <td>6531.48</td>\n",
       "      <td>366.680279</td>\n",
       "      <td>6056.0</td>\n",
       "      <td>6183.0</td>\n",
       "      <td>6514.0</td>\n",
       "      <td>6870.0</td>\n",
       "      <td>7098.0</td>\n",
       "    </tr>\n",
       "    <tr>\n",
       "      <th>94087</th>\n",
       "      <td>25.0</td>\n",
       "      <td>8279.68</td>\n",
       "      <td>467.047439</td>\n",
       "      <td>7426.0</td>\n",
       "      <td>7958.0</td>\n",
       "      <td>8348.0</td>\n",
       "      <td>8585.0</td>\n",
       "      <td>8974.0</td>\n",
       "    </tr>\n",
       "    <tr>\n",
       "      <th>95014</th>\n",
       "      <td>25.0</td>\n",
       "      <td>9145.28</td>\n",
       "      <td>275.174266</td>\n",
       "      <td>8446.0</td>\n",
       "      <td>9095.0</td>\n",
       "      <td>9211.0</td>\n",
       "      <td>9337.0</td>\n",
       "      <td>9476.0</td>\n",
       "    </tr>\n",
       "    <tr>\n",
       "      <th>95051</th>\n",
       "      <td>25.0</td>\n",
       "      <td>7405.56</td>\n",
       "      <td>359.942134</td>\n",
       "      <td>6680.0</td>\n",
       "      <td>7181.0</td>\n",
       "      <td>7339.0</td>\n",
       "      <td>7693.0</td>\n",
       "      <td>8096.0</td>\n",
       "    </tr>\n",
       "  </tbody>\n",
       "</table>\n",
       "</div>"
      ],
      "text/plain": [
       "         count     mean         std     min     25%     50%     75%     max\n",
       "ZipCode                                                                    \n",
       "94085     25.0  6531.48  366.680279  6056.0  6183.0  6514.0  6870.0  7098.0\n",
       "94087     25.0  8279.68  467.047439  7426.0  7958.0  8348.0  8585.0  8974.0\n",
       "95014     25.0  9145.28  275.174266  8446.0  9095.0  9211.0  9337.0  9476.0\n",
       "95051     25.0  7405.56  359.942134  6680.0  7181.0  7339.0  7693.0  8096.0"
      ]
     },
     "execution_count": 257,
     "metadata": {},
     "output_type": "execute_result"
    }
   ],
   "source": [
    "df.groupby(\"ZipCode\").LotSize.describe()\n",
    "#df.groupby(\"CarGarage\").LotSize.describe()"
   ]
  },
  {
   "cell_type": "code",
   "execution_count": 258,
   "metadata": {},
   "outputs": [
    {
     "data": {
      "text/html": [
       "<div>\n",
       "<style scoped>\n",
       "    .dataframe tbody tr th:only-of-type {\n",
       "        vertical-align: middle;\n",
       "    }\n",
       "\n",
       "    .dataframe tbody tr th {\n",
       "        vertical-align: top;\n",
       "    }\n",
       "\n",
       "    .dataframe thead th {\n",
       "        text-align: right;\n",
       "    }\n",
       "</style>\n",
       "<table border=\"1\" class=\"dataframe\">\n",
       "  <thead>\n",
       "    <tr style=\"text-align: right;\">\n",
       "      <th></th>\n",
       "      <th>count</th>\n",
       "      <th>mean</th>\n",
       "      <th>std</th>\n",
       "      <th>min</th>\n",
       "      <th>25%</th>\n",
       "      <th>50%</th>\n",
       "      <th>75%</th>\n",
       "      <th>max</th>\n",
       "    </tr>\n",
       "    <tr>\n",
       "      <th>ZipCode</th>\n",
       "      <th></th>\n",
       "      <th></th>\n",
       "      <th></th>\n",
       "      <th></th>\n",
       "      <th></th>\n",
       "      <th></th>\n",
       "      <th></th>\n",
       "      <th></th>\n",
       "    </tr>\n",
       "  </thead>\n",
       "  <tbody>\n",
       "    <tr>\n",
       "      <th>94085</th>\n",
       "      <td>25.0</td>\n",
       "      <td>907.00</td>\n",
       "      <td>38.223030</td>\n",
       "      <td>851.0</td>\n",
       "      <td>877.0</td>\n",
       "      <td>904.0</td>\n",
       "      <td>935.0</td>\n",
       "      <td>966.0</td>\n",
       "    </tr>\n",
       "    <tr>\n",
       "      <th>94087</th>\n",
       "      <td>25.0</td>\n",
       "      <td>899.24</td>\n",
       "      <td>33.121343</td>\n",
       "      <td>850.0</td>\n",
       "      <td>876.0</td>\n",
       "      <td>890.0</td>\n",
       "      <td>927.0</td>\n",
       "      <td>962.0</td>\n",
       "    </tr>\n",
       "    <tr>\n",
       "      <th>95014</th>\n",
       "      <td>25.0</td>\n",
       "      <td>894.80</td>\n",
       "      <td>32.430695</td>\n",
       "      <td>850.0</td>\n",
       "      <td>862.0</td>\n",
       "      <td>889.0</td>\n",
       "      <td>924.0</td>\n",
       "      <td>942.0</td>\n",
       "    </tr>\n",
       "    <tr>\n",
       "      <th>95051</th>\n",
       "      <td>25.0</td>\n",
       "      <td>916.68</td>\n",
       "      <td>39.359158</td>\n",
       "      <td>853.0</td>\n",
       "      <td>891.0</td>\n",
       "      <td>918.0</td>\n",
       "      <td>949.0</td>\n",
       "      <td>975.0</td>\n",
       "    </tr>\n",
       "  </tbody>\n",
       "</table>\n",
       "</div>"
      ],
      "text/plain": [
       "         count    mean        std    min    25%    50%    75%    max\n",
       "ZipCode                                                             \n",
       "94085     25.0  907.00  38.223030  851.0  877.0  904.0  935.0  966.0\n",
       "94087     25.0  899.24  33.121343  850.0  876.0  890.0  927.0  962.0\n",
       "95014     25.0  894.80  32.430695  850.0  862.0  889.0  924.0  942.0\n",
       "95051     25.0  916.68  39.359158  853.0  891.0  918.0  949.0  975.0"
      ]
     },
     "execution_count": 258,
     "metadata": {},
     "output_type": "execute_result"
    }
   ],
   "source": [
    "df.groupby(\"ZipCode\").SchoolAPI.describe()"
   ]
  },
  {
   "cell_type": "markdown",
   "metadata": {},
   "source": [
    "### Get Columns + Index"
   ]
  },
  {
   "cell_type": "code",
   "execution_count": 259,
   "metadata": {},
   "outputs": [
    {
     "data": {
      "text/plain": [
       "Index(['HomeID', 'HomeAge', 'HomeSqft', 'LotSize', 'BedRooms', 'SchoolAPI',\n",
       "       'CarGarage', 'ZipCode', 'HomePriceK', 'Price2019'],\n",
       "      dtype='object')"
      ]
     },
     "execution_count": 259,
     "metadata": {},
     "output_type": "execute_result"
    }
   ],
   "source": [
    "df.columns"
   ]
  },
  {
   "cell_type": "code",
   "execution_count": 260,
   "metadata": {},
   "outputs": [
    {
     "data": {
      "text/plain": [
       "['HomeID',\n",
       " 'HomeAge',\n",
       " 'HomeSqft',\n",
       " 'LotSize',\n",
       " 'BedRooms',\n",
       " 'SchoolAPI',\n",
       " 'CarGarage',\n",
       " 'ZipCode',\n",
       " 'HomePriceK',\n",
       " 'Price2019']"
      ]
     },
     "execution_count": 260,
     "metadata": {},
     "output_type": "execute_result"
    }
   ],
   "source": [
    "list(df.columns)"
   ]
  },
  {
   "cell_type": "markdown",
   "metadata": {},
   "source": [
    "# <font color = \"red\">Pandas HW 1</font>\n",
    "\n",
    "Could there be any relationship between \"Price per lot size Sqft\" and \"Price per home Sqft\"? What can be the takeaway message from the data we have? Try out different functions to see if there is any significance?"
   ]
  },
  {
   "cell_type": "code",
   "execution_count": 261,
   "metadata": {},
   "outputs": [
    {
     "name": "stdout",
     "output_type": "stream",
     "text": [
      "Avg Lot size\n",
      "         LotSize  HomeSqft  HomePriceK\n",
      "ZipCode                               \n",
      "94085    6531.48   1623.64      885.96\n",
      "94087    8279.68   1568.88     1151.48\n",
      "95014    9145.28   1608.64     1263.32\n",
      "95051    7405.56   1659.96     1023.20\n"
     ]
    },
    {
     "data": {
      "text/html": [
       "<div>\n",
       "<style scoped>\n",
       "    .dataframe tbody tr th:only-of-type {\n",
       "        vertical-align: middle;\n",
       "    }\n",
       "\n",
       "    .dataframe tbody tr th {\n",
       "        vertical-align: top;\n",
       "    }\n",
       "\n",
       "    .dataframe thead th {\n",
       "        text-align: right;\n",
       "    }\n",
       "</style>\n",
       "<table border=\"1\" class=\"dataframe\">\n",
       "  <thead>\n",
       "    <tr style=\"text-align: right;\">\n",
       "      <th></th>\n",
       "      <th>LotSize</th>\n",
       "      <th>HomeSqft</th>\n",
       "      <th>HomePriceK</th>\n",
       "    </tr>\n",
       "    <tr>\n",
       "      <th>ZipCode</th>\n",
       "      <th></th>\n",
       "      <th></th>\n",
       "      <th></th>\n",
       "    </tr>\n",
       "  </thead>\n",
       "  <tbody>\n",
       "    <tr>\n",
       "      <th>94085</th>\n",
       "      <td>6531.48</td>\n",
       "      <td>1623.64</td>\n",
       "      <td>885.96</td>\n",
       "    </tr>\n",
       "    <tr>\n",
       "      <th>95051</th>\n",
       "      <td>7405.56</td>\n",
       "      <td>1659.96</td>\n",
       "      <td>1023.20</td>\n",
       "    </tr>\n",
       "    <tr>\n",
       "      <th>94087</th>\n",
       "      <td>8279.68</td>\n",
       "      <td>1568.88</td>\n",
       "      <td>1151.48</td>\n",
       "    </tr>\n",
       "    <tr>\n",
       "      <th>95014</th>\n",
       "      <td>9145.28</td>\n",
       "      <td>1608.64</td>\n",
       "      <td>1263.32</td>\n",
       "    </tr>\n",
       "  </tbody>\n",
       "</table>\n",
       "</div>"
      ],
      "text/plain": [
       "         LotSize  HomeSqft  HomePriceK\n",
       "ZipCode                               \n",
       "94085    6531.48   1623.64      885.96\n",
       "95051    7405.56   1659.96     1023.20\n",
       "94087    8279.68   1568.88     1151.48\n",
       "95014    9145.28   1608.64     1263.32"
      ]
     },
     "execution_count": 261,
     "metadata": {},
     "output_type": "execute_result"
    }
   ],
   "source": [
    "# Your code here ...\n",
    "hw1=df.groupby(\"ZipCode\")\n",
    "#print(hw1)\n",
    "print(\"Avg Lot size\")\n",
    "print(hw1['LotSize','HomeSqft','HomePriceK'].agg(np.mean))\n",
    "#print(hw1['HomeSqft'].agg(np.mean))\n",
    "#print(hw1['HomePriceK'].agg(np.mean))\n",
    "unsort=hw1['LotSize','HomeSqft','HomePriceK'].agg(np.mean)\n",
    "unsort.sort_values(by=['HomePriceK'])\n",
    "\n",
    "## As lot size increases price is increasing\n",
    "\n",
    "#for i,j in  hw1:\n",
    " #   print (i)\n",
    "    #print (j.mean())\n",
    "#df.groupby(\"ZipCode\").HomeSqft.describe()"
   ]
  },
  {
   "cell_type": "markdown",
   "metadata": {},
   "source": [
    "# <font color = \"red\">Pandas HW 2</font>"
   ]
  },
  {
   "cell_type": "markdown",
   "metadata": {},
   "source": [
    "What other data column for the zip codes could make the analysis more precise?\n",
    "\n",
    "Median houshold income, population, population density??? Inlude one or more new data columns and re-visit your conclusions from HW 1.\n",
    "\n",
    "Are these home prices driven by factors for which we have the data?"
   ]
  },
  {
   "cell_type": "code",
   "execution_count": 262,
   "metadata": {},
   "outputs": [
    {
     "name": "stdout",
     "output_type": "stream",
     "text": [
      "   HomeID  HomeAge  HomeSqft  LotSize  BedRooms  SchoolAPI  CarGarage  \\\n",
      "0       1       24      1757     6056         2        899          3   \n",
      "1       2       10      1563     6085         2        959          3   \n",
      "2       3       14      1344     6089         2        865          3   \n",
      "3       4       14      1215     6129         3        959          2   \n",
      "4       5       24      1866     6141         3        877          1   \n",
      "\n",
      "   ZipCode  HomePriceK  Price2019  Population  MedIncome  \n",
      "0    94085         894     929.76       23177    92489.0  \n",
      "1    94085         861     895.44       23177    92489.0  \n",
      "2    94085         831     864.24       23177    92489.0  \n",
      "3    94085         809     841.36       23177    92489.0  \n",
      "4    94085         890     925.60       23177    92489.0  \n",
      "    HomeID  HomeAge  HomeSqft  LotSize  BedRooms  SchoolAPI  CarGarage  \\\n",
      "95      96       11      1981     9350         4        912          1   \n",
      "96      97       10      1645     9352         4        942          3   \n",
      "97      98       21      1312     9456         4        915          3   \n",
      "98      99       19      1880     9470         3        857          3   \n",
      "99     100       11      1691     9476         4        857          0   \n",
      "\n",
      "    ZipCode  HomePriceK  Price2019  Population  MedIncome  \n",
      "95    95014        1307    1359.28       62632   130961.0  \n",
      "96    95014        1336    1389.44       62632   130961.0  \n",
      "97    95014        1284    1335.36       62632   130961.0  \n",
      "98    95014        1269    1319.76       62632   130961.0  \n",
      "99    95014        1250    1300.00       62632   130961.0  \n"
     ]
    }
   ],
   "source": [
    "# your code here ... [ Home prices are increasing As population increases and Incomelevel increases]\n",
    "ppl={94085:1000,95051:2000,94087:3000,95014:4000}\n",
    "#print(ppl)\n",
    "#dfp = pd.DataFrame({94085:1000,95051:2000,94087:3000,95014:4000})\n",
    "df['Population'] = 0\n",
    "#print (df)\n",
    "df.loc[df['ZipCode']==94085,'Population']=23177\n",
    "df.loc[df['ZipCode']==95051,'Population']=55634\n",
    "df.loc[df['ZipCode']==94087,'Population']=55987\n",
    "df.loc[df['ZipCode']==95014,'Population']=62632\n",
    "\n",
    "df.loc[df['ZipCode']==94085,'MedIncome'] = 92489\n",
    "df.loc[df['ZipCode']==95051,'MedIncome'] = 124830\n",
    "df.loc[df['ZipCode']==94087,'MedIncome'] = 129668\n",
    "df.loc[df['ZipCode']==95014,'MedIncome'] = 130961\n",
    "\n",
    "\n",
    "#df['Population'] = np.where(df['ZipCode'] == 94085, 1000,20)  ## also Works\n",
    "print (df.head())\n",
    "print (df.tail())\n",
    "\n",
    "\n"
   ]
  },
  {
   "cell_type": "code",
   "execution_count": 263,
   "metadata": {},
   "outputs": [
    {
     "name": "stdout",
     "output_type": "stream",
     "text": [
      "         LotSize  HomeSqft  Population  MedIncome  HomePriceK\n",
      "ZipCode                                                      \n",
      "94085    6531.48   1623.64     23177.0    92489.0      885.96\n",
      "95051    7405.56   1659.96     55634.0   124830.0     1023.20\n",
      "94087    8279.68   1568.88     55987.0   129668.0     1151.48\n",
      "95014    9145.28   1608.64     62632.0   130961.0     1263.32\n"
     ]
    }
   ],
   "source": [
    "hw2=df.groupby('ZipCode')\n",
    "#print(hw2['LotSize','HomeSqft','HomePriceK'].agg(np.mean))\n",
    "print(hw2['LotSize','HomeSqft','Population','MedIncome','HomePriceK'].agg(np.mean).sort_values(by=['HomePriceK']))\n"
   ]
  },
  {
   "cell_type": "code",
   "execution_count": null,
   "metadata": {},
   "outputs": [],
   "source": []
  },
  {
   "cell_type": "code",
   "execution_count": null,
   "metadata": {},
   "outputs": [],
   "source": []
  }
 ],
 "metadata": {
  "kernelspec": {
   "display_name": "Python 3",
   "language": "python",
   "name": "python3"
  },
  "language_info": {
   "codemirror_mode": {
    "name": "ipython",
    "version": 3
   },
   "file_extension": ".py",
   "mimetype": "text/x-python",
   "name": "python",
   "nbconvert_exporter": "python",
   "pygments_lexer": "ipython3",
   "version": "3.6.5"
  }
 },
 "nbformat": 4,
 "nbformat_minor": 2
}

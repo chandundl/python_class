{
 "cells": [
  {
   "cell_type": "markdown",
   "metadata": {},
   "source": [
    "## Class 2 Python for Data Science\n",
    "### Python Dictionary\n",
    "### List Comprehension\n",
    "### Reading CSV file and fix data errors"
   ]
  },
  {
   "cell_type": "markdown",
   "metadata": {},
   "source": [
    "One of Python's built−in datatypes is the dictionary, which defines one−to−one relationships between keys and values.\n",
    "\n",
    "\"Like lists dictionaries can easily be changed, can be shrunk and grown ad libitum at run time. They shrink and grow without the necessity of making copies. Dictionaries can be contained in lists and vice versa. But what's the difference between lists and dictionaries? Lists are ordered sets of objects, whereas dictionaries are <b>unordered sets.</b> But the main difference is that items in dictionaries are accessed via keys and not via their position.\"\n",
    "\n",
    "<br>\n",
    "A pair of braces creates an empty dictionary: {}. Placing a comma-separated list of key:value pairs within the braces adds initial key: value pairs to the dictionary; this is also the way dictionaries are written on output."
   ]
  },
  {
   "cell_type": "code",
   "execution_count": 521,
   "metadata": {},
   "outputs": [
    {
     "data": {
      "text/plain": [
       "{'fruit': 'orange, watermelon, grape', 'vegetable': 'onion, mushroom, lettuce'}"
      ]
     },
     "execution_count": 521,
     "metadata": {},
     "output_type": "execute_result"
    }
   ],
   "source": [
    "dict1 = {\"fruit\" : \"orange, watermelon, grape\", \"vegetable\":\"onion, mushroom, lettuce\"}\n",
    "dict1"
   ]
  },
  {
   "cell_type": "markdown",
   "metadata": {},
   "source": [
    "### Keys"
   ]
  },
  {
   "cell_type": "markdown",
   "metadata": {},
   "source": [
    "Get the keys from \"dict1\""
   ]
  },
  {
   "cell_type": "code",
   "execution_count": 522,
   "metadata": {},
   "outputs": [
    {
     "data": {
      "text/plain": [
       "dict_keys(['fruit', 'vegetable'])"
      ]
     },
     "execution_count": 522,
     "metadata": {},
     "output_type": "execute_result"
    }
   ],
   "source": [
    "dict1.keys()\n",
    "dict1.keys()"
   ]
  },
  {
   "cell_type": "markdown",
   "metadata": {},
   "source": [
    "### Indexing With Keys?"
   ]
  },
  {
   "cell_type": "markdown",
   "metadata": {},
   "source": [
    "What happens if you try to run \"<b>dict1[0]</b>\"? Why?\n"
   ]
  },
  {
   "cell_type": "code",
   "execution_count": 523,
   "metadata": {},
   "outputs": [
    {
     "data": {
      "text/plain": [
       "'orange, watermelon, grape'"
      ]
     },
     "execution_count": 523,
     "metadata": {},
     "output_type": "execute_result"
    }
   ],
   "source": [
    "dict1[\"fruit\"]"
   ]
  },
  {
   "cell_type": "markdown",
   "metadata": {},
   "source": [
    "OR"
   ]
  },
  {
   "cell_type": "code",
   "execution_count": 524,
   "metadata": {},
   "outputs": [
    {
     "data": {
      "text/plain": [
       "'orange, watermelon, grape'"
      ]
     },
     "execution_count": 524,
     "metadata": {},
     "output_type": "execute_result"
    }
   ],
   "source": [
    "dict1.get(\"fruit\")"
   ]
  },
  {
   "cell_type": "markdown",
   "metadata": {},
   "source": [
    "### ii.Values"
   ]
  },
  {
   "cell_type": "markdown",
   "metadata": {},
   "source": [
    "Get the values from \"dict1\""
   ]
  },
  {
   "cell_type": "code",
   "execution_count": 525,
   "metadata": {},
   "outputs": [
    {
     "data": {
      "text/plain": [
       "dict_values(['orange, watermelon, grape', 'onion, mushroom, lettuce'])"
      ]
     },
     "execution_count": 525,
     "metadata": {},
     "output_type": "execute_result"
    }
   ],
   "source": [
    "dict1.values()"
   ]
  },
  {
   "cell_type": "markdown",
   "metadata": {},
   "source": [
    "### Indexing With Values?\n",
    "A little more complicated"
   ]
  },
  {
   "cell_type": "code",
   "execution_count": 526,
   "metadata": {},
   "outputs": [
    {
     "name": "stdout",
     "output_type": "stream",
     "text": [
      "fruit\n"
     ]
    }
   ],
   "source": [
    "V = 'orange, watermelon, grape'\n",
    "\n",
    "for key, value in dict1.items():\n",
    "    if value == V:\n",
    "        K = key\n",
    "print(K)"
   ]
  },
  {
   "cell_type": "markdown",
   "metadata": {},
   "source": [
    "### iii. Length of Dictionary\n",
    "\n",
    "Returns the number of stored entries, i.e. the number of (key,value) pairs."
   ]
  },
  {
   "cell_type": "code",
   "execution_count": 527,
   "metadata": {},
   "outputs": [
    {
     "data": {
      "text/plain": [
       "2"
      ]
     },
     "execution_count": 527,
     "metadata": {},
     "output_type": "execute_result"
    }
   ],
   "source": [
    "len(dict1)"
   ]
  },
  {
   "cell_type": "markdown",
   "metadata": {},
   "source": [
    "### iv. Remove key and value"
   ]
  },
  {
   "cell_type": "code",
   "execution_count": 528,
   "metadata": {},
   "outputs": [
    {
     "name": "stdout",
     "output_type": "stream",
     "text": [
      "{'fruit': 'orange, watermelon, grape'}\n"
     ]
    }
   ],
   "source": [
    "del dict1[\"vegetable\"]\n",
    "print(dict1)"
   ]
  },
  {
   "cell_type": "markdown",
   "metadata": {},
   "source": [
    "### v. Add new value"
   ]
  },
  {
   "cell_type": "code",
   "execution_count": 529,
   "metadata": {},
   "outputs": [
    {
     "name": "stdout",
     "output_type": "stream",
     "text": [
      "{'fruit': 'orange, watermelon, grape', 'new': 0}\n"
     ]
    }
   ],
   "source": [
    "dict1[\"new\"] = 0\n",
    "print(dict1)"
   ]
  },
  {
   "cell_type": "markdown",
   "metadata": {},
   "source": [
    "### vi. Concatenating Dictionaries\n",
    "<i>*Note: Keys must be unique</i>"
   ]
  },
  {
   "cell_type": "code",
   "execution_count": 530,
   "metadata": {},
   "outputs": [
    {
     "data": {
      "text/plain": [
       "{'fruit': [5, 6, 7], 'vegetable': 'onion, mushroom, lettuce'}"
      ]
     },
     "execution_count": 530,
     "metadata": {},
     "output_type": "execute_result"
    }
   ],
   "source": [
    "dict1 = {\"fruit\" : \"orange, watermelon, grape\", \"vegetable\":\"onion, mushroom, lettuce\"}\n",
    "dict2 = {\"fruit\": [5,6,7]}\n",
    "dict1.update(dict2)\n",
    "dict1"
   ]
  },
  {
   "cell_type": "markdown",
   "metadata": {},
   "source": [
    "### <font color = \"coral\">Exercise 1: Create a new dictionary</font>\n",
    "<font color = \"coral\">Your keys should be \"Country\",\"State\",\"City\",\"ZipCode\"\n",
    "\n",
    "Fill in the values according to the keys."
   ]
  },
  {
   "cell_type": "code",
   "execution_count": 581,
   "metadata": {},
   "outputs": [
    {
     "name": "stdout",
     "output_type": "stream",
     "text": [
      "Cupertino\n",
      "95014\n"
     ]
    }
   ],
   "source": [
    "#Your code here\n",
    "dict2={\"Country\":\"USA\",\"State\":\"CA\",\"City\":\"Cupertino\",\"Zipcode\":\"95014\"}\n",
    "#print(dict2)\n",
    "\n",
    "print(dict2[\"City\"])\n",
    "print(dict2.get(\"Zipcode\"))"
   ]
  },
  {
   "cell_type": "markdown",
   "metadata": {},
   "source": [
    "## Multi-dimensional Array"
   ]
  },
  {
   "cell_type": "code",
   "execution_count": 532,
   "metadata": {},
   "outputs": [],
   "source": [
    "a = [[0,  1, 2, 3, 4, 5],\n",
    "     [10,11,12,13,14,15],\n",
    "     [20,21,22,23,24,25],\n",
    "     [30,31,32,33,34,35],\n",
    "     [40,41,42,43,44,45],\n",
    "     [50,51,52,53,54,55]]"
   ]
  },
  {
   "cell_type": "code",
   "execution_count": 533,
   "metadata": {},
   "outputs": [
    {
     "name": "stdout",
     "output_type": "stream",
     "text": [
      "[0, 1, 2, 3, 4, 5]\n",
      "3\n"
     ]
    }
   ],
   "source": [
    "print(a[0])\n",
    "print(a[0][3])"
   ]
  },
  {
   "cell_type": "code",
   "execution_count": 534,
   "metadata": {},
   "outputs": [
    {
     "data": {
      "text/plain": [
       "[[40, 41, 42, 43, 44, 45], [50, 51, 52, 53, 54, 55]]"
      ]
     },
     "execution_count": 534,
     "metadata": {},
     "output_type": "execute_result"
    }
   ],
   "source": [
    "a[4:6]"
   ]
  },
  {
   "cell_type": "code",
   "execution_count": 535,
   "metadata": {},
   "outputs": [
    {
     "data": {
      "text/plain": [
       "55"
      ]
     },
     "execution_count": 535,
     "metadata": {},
     "output_type": "execute_result"
    }
   ],
   "source": [
    "a[5][5]"
   ]
  },
  {
   "cell_type": "code",
   "execution_count": null,
   "metadata": {},
   "outputs": [],
   "source": []
  },
  {
   "cell_type": "markdown",
   "metadata": {},
   "source": [
    "### List Comprehensions"
   ]
  },
  {
   "cell_type": "code",
   "execution_count": 536,
   "metadata": {},
   "outputs": [
    {
     "data": {
      "text/plain": [
       "[0, 1, 4, 9, 16, 25, 36, 49, 64, 81, 100, 121, 144, 169, 196]"
      ]
     },
     "execution_count": 536,
     "metadata": {},
     "output_type": "execute_result"
    }
   ],
   "source": [
    "[x**2 for x in range(15)]"
   ]
  },
  {
   "cell_type": "markdown",
   "metadata": {},
   "source": [
    " SAME AS BELOW"
   ]
  },
  {
   "cell_type": "code",
   "execution_count": 537,
   "metadata": {},
   "outputs": [
    {
     "data": {
      "text/plain": [
       "[0, 1, 4, 9, 16, 25, 36, 49, 64, 81, 100, 121, 144, 169, 196]"
      ]
     },
     "execution_count": 537,
     "metadata": {},
     "output_type": "execute_result"
    }
   ],
   "source": [
    "original = list(range(15))\n",
    "\n",
    "squares = []\n",
    "\n",
    "for x in original:\n",
    "    squares.append(x**2)\n",
    "    \n",
    "squares"
   ]
  },
  {
   "cell_type": "markdown",
   "metadata": {},
   "source": [
    "#### What is happening in this loop?"
   ]
  },
  {
   "cell_type": "code",
   "execution_count": 538,
   "metadata": {},
   "outputs": [
    {
     "data": {
      "text/plain": [
       "[0, 1, 16, 81, 256, 625, 1296, 2401, 4096, 6561]"
      ]
     },
     "execution_count": 538,
     "metadata": {},
     "output_type": "execute_result"
    }
   ],
   "source": [
    "new = []\n",
    "for x in squares:\n",
    "    if x < 100:\n",
    "        new.append(x**2)\n",
    "new"
   ]
  },
  {
   "cell_type": "code",
   "execution_count": 539,
   "metadata": {},
   "outputs": [
    {
     "name": "stdout",
     "output_type": "stream",
     "text": [
      "[0, 1, 16, 81, 256, 625, 1296, 2401, 4096, 6561]\n"
     ]
    },
    {
     "data": {
      "text/plain": [
       "[0, 1, 16, 81]"
      ]
     },
     "execution_count": 539,
     "metadata": {},
     "output_type": "execute_result"
    }
   ],
   "source": [
    "new = [i**2 for i in squares if i < 100]\n",
    "print(new) \n",
    "new1 = [x**2 for x in squares if x < 10]\n",
    "new1"
   ]
  },
  {
   "cell_type": "markdown",
   "metadata": {},
   "source": [
    "### <font color = \"coral\">Exercise 2:\n",
    "<font color = \"coral\">\n",
    "Turn this for loop into a nested for list comprehension (Should only be one line)."
   ]
  },
  {
   "cell_type": "code",
   "execution_count": 540,
   "metadata": {},
   "outputs": [
    {
     "name": "stdout",
     "output_type": "stream",
     "text": [
      "[0, 5, 10, 15, 20, 25, 30, 35, 40, 45, 50, 55, 60, 65, 70, 75, 80, 85, 90, 95, 100, 105, 110, 115, 120, 125, 130, 135, 140, 145, 150, 155, 160, 165, 170, 175, 180, 185, 190, 195, 200, 205, 210, 215, 220, 225, 230, 235, 240, 245, 250, 255, 260, 265, 270, 275, 280, 285, 290, 295, 300, 305, 310, 315, 320, 325, 330, 335, 340, 345, 350, 355, 360, 365, 370, 375, 380, 385, 390, 395, 400, 405, 410, 415, 420, 425, 430, 435, 440, 445, 450, 455, 460, 465, 470, 475, 480, 485, 490, 495, 500, 505, 510, 515, 520, 525, 530, 535, 540, 545, 550, 555, 560, 565, 570, 575, 580, 585, 590, 595, 600, 605, 610, 615, 620, 625, 630, 635, 640, 645, 650, 655, 660, 665, 670, 675, 680, 685, 690, 695, 700, 705, 710, 715, 720, 725, 730, 735, 740, 745, 750, 755, 760, 765, 770, 775, 780, 785, 790, 795, 800, 805, 810, 815, 820, 825, 830, 835, 840, 845, 850, 855, 860, 865, 870, 875, 880, 885, 890, 895, 900, 905, 910, 915, 920, 925, 930, 935, 940, 945, 950, 955, 960, 965, 970, 975, 980, 985, 990, 995]\n"
     ]
    }
   ],
   "source": [
    "mystery = []\n",
    "for i in range(1000):\n",
    "    if i%5 == 0:\n",
    "        mystery.append(i)\n",
    "print(mystery)"
   ]
  },
  {
   "cell_type": "code",
   "execution_count": 541,
   "metadata": {},
   "outputs": [
    {
     "name": "stdout",
     "output_type": "stream",
     "text": [
      "[0, 5, 10, 15, 20, 25, 30, 35, 40, 45, 50, 55, 60, 65, 70, 75, 80, 85, 90, 95, 100, 105, 110, 115, 120, 125, 130, 135, 140, 145, 150, 155, 160, 165, 170, 175, 180, 185, 190, 195, 200, 205, 210, 215, 220, 225, 230, 235, 240, 245, 250, 255, 260, 265, 270, 275, 280, 285, 290, 295, 300, 305, 310, 315, 320, 325, 330, 335, 340, 345, 350, 355, 360, 365, 370, 375, 380, 385, 390, 395, 400, 405, 410, 415, 420, 425, 430, 435, 440, 445, 450, 455, 460, 465, 470, 475, 480, 485, 490, 495, 500, 505, 510, 515, 520, 525, 530, 535, 540, 545, 550, 555, 560, 565, 570, 575, 580, 585, 590, 595, 600, 605, 610, 615, 620, 625, 630, 635, 640, 645, 650, 655, 660, 665, 670, 675, 680, 685, 690, 695, 700, 705, 710, 715, 720, 725, 730, 735, 740, 745, 750, 755, 760, 765, 770, 775, 780, 785, 790, 795, 800, 805, 810, 815, 820, 825, 830, 835, 840, 845, 850, 855, 860, 865, 870, 875, 880, 885, 890, 895, 900, 905, 910, 915, 920, 925, 930, 935, 940, 945, 950, 955, 960, 965, 970, 975, 980, 985, 990, 995]\n"
     ]
    }
   ],
   "source": [
    "#Your code here\n",
    "#mystery1 = []\n",
    "#[mystery1.append(x) for x in range(1000) if x%5 == 0]\n",
    "mystery1=[x for x in range(1000) if x%5 == 0]\n",
    "print(mystery1)"
   ]
  },
  {
   "cell_type": "markdown",
   "metadata": {},
   "source": [
    " <h1> <b><font color = coral>&#9998; <font color = coral>EXERCISE 3:</h1></font>"
   ]
  },
  {
   "cell_type": "markdown",
   "metadata": {},
   "source": [
    "<font color = \"coral\">\n",
    "Not that you have all this knowledge on different operators, data types, and loops create a loop that removes all the unwanted information from our list.\n",
    "\n",
    "<b>1) Create a loop where you get rid of all the odd numbers.\n",
    "<br><br>\n",
    "2) Put all the numbers in order from smallest to largest.<br><br>\n",
    "3) Once you only have a list of ordered even numbers convert all these integers into strings.<br><br>\n",
    "4) Now print your number strings as a single string with comma separation.</b>\n",
    "\n"
   ]
  },
  {
   "cell_type": "code",
   "execution_count": 588,
   "metadata": {},
   "outputs": [
    {
     "name": "stdout",
     "output_type": "stream",
     "text": [
      "Even : [4, 6, 2, 6, 8, 4, 6, 8, 454, 876, 54, 76, 34, 234234, 23432, 4, 1212, 76, 5432, 123212245346342, 2]\n",
      "Sort: [2, 2, 4, 4, 4, 6, 6, 6, 8, 8, 34, 54, 76, 76, 454, 876, 1212, 5432, 23432, 234234, 123212245346342]\n",
      "2,2,4,4,4,6,6,6,8,8,34,54,76,76,454,876,1212,5432,23432,234234,123212245346342\n"
     ]
    }
   ],
   "source": [
    "lst = [4,6,3,2,6,8,9,7,23,4,465,7,6,8,454,5,876,567,54,76,34,55,\n",
    "       33,7653,234234,7857,23432,4353,4,345,4667,23235,1212,221,\n",
    "       335,2323,21,45,76,5432,54645645,123212245346342,67,34563,2]\n",
    "\n",
    "#Your code here\n",
    "num1=[i for i in lst if i%2 == 0]\n",
    "print(\"Even :\" , num1)\n",
    "num1.sort()\n",
    "print(\"Sort:\" , num1)\n",
    "strnum=[str(x) for x in num1 ]\n",
    "#print(\"As string\", strnum)\n",
    "str1=\",\".join(strnum)\n",
    "print(str1)"
   ]
  },
  {
   "cell_type": "markdown",
   "metadata": {},
   "source": [
    " <h1> <b><font color = coral>&#9998; <font color = coral>EXERCISE 4:</h1></font>"
   ]
  },
  {
   "cell_type": "markdown",
   "metadata": {},
   "source": [
    "<font color = \"coral\">If we list all the natural numbers below 10 that are multiples of 3 or 5, we get 3, 5, 6 and 9. The sum of these multiples is 23.\n",
    "\n",
    "Find the sum of all the multiples of 3 or 5 below 10,000."
   ]
  },
  {
   "cell_type": "code",
   "execution_count": 593,
   "metadata": {},
   "outputs": [
    {
     "name": "stdout",
     "output_type": "stream",
     "text": [
      "23331668\n"
     ]
    }
   ],
   "source": [
    "#Your answer here\n",
    "sum=0\n",
    "for i in range(10000):\n",
    "    if  (i%3 ==0) | (i%5 ==0) :\n",
    "        sum+=i\n",
    "print(sum)"
   ]
  },
  {
   "cell_type": "markdown",
   "metadata": {},
   "source": [
    " <h1> <b><font color = coral>&#9998; <font color = coral>EXERCISE 5:</h1></font>"
   ]
  },
  {
   "cell_type": "markdown",
   "metadata": {},
   "source": [
    "<font color = \"coral\">\n",
    "Calculate all square numbers (1,4,9,16,...) below 1,000. What's their sum?"
   ]
  },
  {
   "cell_type": "code",
   "execution_count": 579,
   "metadata": {},
   "outputs": [
    {
     "name": "stdout",
     "output_type": "stream",
     "text": [
      "10416\n"
     ]
    }
   ],
   "source": [
    "#Your answer here\n",
    "sum=0\n",
    "#for i in [x**2 for x in range(40)] :\n",
    "for i in range(50):\n",
    "    sq=i**2\n",
    "    if sq < 1000:\n",
    "     sum+=sq\n",
    "    \n",
    "print(sum)"
   ]
  },
  {
   "cell_type": "markdown",
   "metadata": {},
   "source": [
    " <h1> <b><font color = coral>&#9998; <font color = coral>EXERCISE 6:</h1></font>"
   ]
  },
  {
   "cell_type": "markdown",
   "metadata": {},
   "source": [
    "<font color = \"coral\">\n",
    "Write a function to calculate the mean (average) of \"lst\". Do not use the built-in \"mean\" functions that Python offers."
   ]
  },
  {
   "cell_type": "code",
   "execution_count": 545,
   "metadata": {},
   "outputs": [
    {
     "data": {
      "text/plain": [
       "121.77272727272727"
      ]
     },
     "execution_count": 545,
     "metadata": {},
     "output_type": "execute_result"
    }
   ],
   "source": [
    "lst = [4,6,3,2,6,8,9,7,23,4,465,7,6,8,454,5,876,567,54,76,34,55]\n",
    "          \n",
    "#Your answer here\n",
    "len1=len(lst)\n",
    "sum=0\n",
    "for i in lst:\n",
    "    sum+=i\n",
    "sum/len1\n",
    "\n"
   ]
  },
  {
   "cell_type": "markdown",
   "metadata": {},
   "source": [
    " <h1> <b><font color = coral>&#9998; <font color = coral>EXERCISE 7:</h1></font>"
   ]
  },
  {
   "cell_type": "markdown",
   "metadata": {},
   "source": [
    "<font color = \"coral\">\n",
    "Write a function to calculate the median of \"lst\". Do not use the built-in \"median\" functions that Python offers."
   ]
  },
  {
   "cell_type": "code",
   "execution_count": 546,
   "metadata": {},
   "outputs": [
    {
     "name": "stdout",
     "output_type": "stream",
     "text": [
      "[2, 2, 3, 4, 4, 4, 5, 6, 6, 6, 7, 7, 8, 8, 9, 21, 23, 33, 34, 45, 54, 55, 67, 76, 76, 221, 335, 345, 454, 465, 567, 876, 1212, 2323, 4353, 4667, 5432, 7653, 7857, 23235, 23432, 34563, 234234, 54645645, 123212245346342]\n"
     ]
    },
    {
     "data": {
      "text/plain": [
       "67"
      ]
     },
     "execution_count": 546,
     "metadata": {},
     "output_type": "execute_result"
    }
   ],
   "source": [
    "lst = [4,6,3,2,6,8,9,7,23,4,465,7,6,8,454,5,876,567,54,76,34,55,\n",
    "       33,7653,234234,7857,23432,4353,4,345,4667,23235,1212,221,\n",
    "       335,2323,21,45,76,5432,54645645,123212245346342,67,34563,2]\n",
    "#: middle , after sort, if two number avg them \n",
    "#Your answer here\n",
    "lst.sort()\n",
    "print(lst)\n",
    "len(lst)//2\n",
    "lst[len(lst)//2]"
   ]
  },
  {
   "cell_type": "markdown",
   "metadata": {},
   "source": [
    " <h1> <b><font color = coral>&#9998; <font color = coral>EXERCISE 8:</h1></font>"
   ]
  },
  {
   "cell_type": "markdown",
   "metadata": {},
   "source": [
    "<font color = \"coral\">Write a function to calculate the mode of \"lst\". Do not use the built-in \"mode\" functions that Python offers."
   ]
  },
  {
   "cell_type": "code",
   "execution_count": 620,
   "metadata": {},
   "outputs": [
    {
     "name": "stdout",
     "output_type": "stream",
     "text": [
      "No Unique Mode Found\n"
     ]
    }
   ],
   "source": [
    "lst = [4,6,3,2,6,8,9,7,23,4,465,7,6,8,454,5,876,567,54,76,34,55,\n",
    "       33,7653,234234,7857,23432,4353,4,345,4667,23235,1212,221,\n",
    "       335,2323,21,45,76,5432,54645645,123212245346342,67,34563,2]\n",
    "#: element hight number of times occuring\n",
    "#Your answer here\n",
    "lst.sort()\n",
    "#print(lst)\n",
    "lc=0\n",
    "c=0\n",
    "dict={}\n",
    "for i in lst:\n",
    "    c=lst.count(i)\n",
    "    dict[i]=c\n",
    "\n",
    "#print(dict)\n",
    "m=max(dict.values())\n",
    "#print (m)\n",
    "#print(len(dict.values()) )\n",
    "#value_lst=[dict.values()]\n",
    "#print(dict.values())\n",
    "#print(value_lst.count(m))\n",
    "counter=0\n",
    "for k ,v in dict.items():\n",
    "    if v == m :\n",
    "        counter+=1\n",
    "\n",
    "if counter == 1:\n",
    "    print (k,v)\n",
    "else:\n",
    "    print (\"No Unique Mode Found\")"
   ]
  },
  {
   "cell_type": "markdown",
   "metadata": {},
   "source": [
    "# Reading CSV file -- bayarea_home_prices data"
   ]
  },
  {
   "cell_type": "markdown",
   "metadata": {},
   "source": [
    "\"\"\"\n",
    "Dataset description\n",
    "1) HomeID = Home ID number\n",
    "2) HomeAge = Age of home in years\n",
    "3) HomeSqft = Square footage of home\n",
    "4) LotSize = LotSize\n",
    "5) BedRooms = Num bedrooms as per county data\n",
    "6) HighSchoolAPI = API for nearest high school\n",
    "7) ProxFwy = Distance in miles to Freeway\n",
    "8) CarGarage = Number of cars in garage; 0 = no garage\n",
    "9) ZipCode = Postal zip code for the home\n",
    "10)HomePriceK = Home price in $K (Target)\n",
    "-------------------------------------------\n",
    "9 X Variables; 1 Y variable (Target)\n",
    "Data Points = 100\n",
    "\n",
    "Data errors:\n",
    "1) Few ZipCode have starting digit to be 8, it should be 9\n",
    "2) Few HighSchoolApi scores have two digits, the ending digit 0 is missing\n",
    "3) Few CarGarage numbers were entered as letter \"l\", it should be integer 1 \n",
    "\"\"\""
   ]
  },
  {
   "cell_type": "code",
   "execution_count": 548,
   "metadata": {},
   "outputs": [],
   "source": [
    "## Reading csv files\n",
    "def read_file(filename):\n",
    "    file_open = open(filename,\"r\")\n",
    "    data_array = []\n",
    "    for line in iter(file_open):\n",
    "        if \"HomeID\" in line:\n",
    "            continue\n",
    "        line_no_newline = line.rstrip() # delete white space characters\n",
    "        line_split = line_no_newline.split(\",\")\n",
    "        data_array.append(line_split)\n",
    "    return data_array"
   ]
  },
  {
   "cell_type": "code",
   "execution_count": 549,
   "metadata": {},
   "outputs": [
    {
     "name": "stdout",
     "output_type": "stream",
     "text": [
      "[['1', '24', '1757', '6056', '2', '899', '3', '3', '94085', '894'], ['2', '10', '1563', '6085', '2', '959', '4', '3', '94085', '861'], ['3', '14', '1344', '6089', '2', '865', '4', '3', '94085', '831'], ['4', '14', '1215', '6129', '3', '959', '4', '2', '94085', '809'], ['5', '24', '1866', '6141', '3', '877', '4', '1', '94085', '890'], ['6', '18', '1589', '6148', '2', '920', '3', '0', '84085', '867']]\n"
     ]
    }
   ],
   "source": [
    "housing_data = read_file(\"bayarea_home_prices.csv\")\n",
    "print(housing_data[0:6])"
   ]
  },
  {
   "cell_type": "code",
   "execution_count": 550,
   "metadata": {},
   "outputs": [
    {
     "name": "stdout",
     "output_type": "stream",
     "text": [
      "100\n"
     ]
    }
   ],
   "source": [
    "len_housing_data = len(housing_data)\n",
    "print(len_housing_data)"
   ]
  },
  {
   "cell_type": "code",
   "execution_count": 551,
   "metadata": {},
   "outputs": [],
   "source": [
    "list_HomeAge = []\n",
    "# for all rows, extract only column 1\n",
    "for k in range(0,len_housing_data):\n",
    "#for k in len_housing_data:\n",
    "    list_HomeAge.append(housing_data[k][1])    "
   ]
  },
  {
   "cell_type": "code",
   "execution_count": 552,
   "metadata": {},
   "outputs": [
    {
     "name": "stdout",
     "output_type": "stream",
     "text": [
      "['24', '10', '14', '14', '24', '18', '13', '19', '17', '24', '12', '22', '15', '25', '10', '20', '23', '16', '10', '13', '17', '10', '15', '10', '21', '12', '13', '10', '17', '24', '10', '18', '11', '19', '12', '14', '13', '22', '22', '15', '23', '21', '17', '11', '15', '11', '21', '22', '12', '19', '19', '25', '23', '12', '10', '11', '11', '19', '22', '19', '13', '19', '25', '12', '14', '25', '24', '12', '21', '16', '19', '24', '25', '17', '14', '12', '17', '25', '17', '11', '18', '19', '24', '25', '22', '19', '18', '22', '21', '14', '16', '18', '25', '21', '13', '11', '10', '21', '19', '11']\n"
     ]
    }
   ],
   "source": [
    "print(list_HomeAge) \n",
    "# they are still strings, cannot do numerical calculations with strings "
   ]
  },
  {
   "cell_type": "code",
   "execution_count": 553,
   "metadata": {},
   "outputs": [],
   "source": [
    "# How to convert zipcodes from text to numbers\n",
    "for k in range(0,len_housing_data):\n",
    "    housing_data[k][8] = int(housing_data[k][8])  # convert to integer data type and over-write"
   ]
  },
  {
   "cell_type": "code",
   "execution_count": 554,
   "metadata": {},
   "outputs": [
    {
     "name": "stdout",
     "output_type": "stream",
     "text": [
      "[['1', '24', '1757', '6056', '2', '899', '3', '3', 94085, '894'], ['2', '10', '1563', '6085', '2', '959', '4', '3', 94085, '861'], ['3', '14', '1344', '6089', '2', '865', '4', '3', 94085, '831'], ['4', '14', '1215', '6129', '3', '959', '4', '2', 94085, '809'], ['5', '24', '1866', '6141', '3', '877', '4', '1', 94085, '890']]\n"
     ]
    }
   ],
   "source": [
    "print(housing_data[0:5]) # Zipcode is without quotes and not strings; they are now integers"
   ]
  },
  {
   "cell_type": "code",
   "execution_count": 555,
   "metadata": {},
   "outputs": [],
   "source": [
    "## Reading csv files, how to fix errors in data, replace 84085 with 94085\n",
    "def read_file_housing(filename):\n",
    "    file_open = open(filename,\"r\")\n",
    "    data_array = []\n",
    "    for line in iter(file_open):\n",
    "        if \"HomeID\" in line:\n",
    "            continue\n",
    "        line_no_newline = line.rstrip()\n",
    "        line2 = line_no_newline.replace(\"84085\",\"94085\")\n",
    "        line_split = line2.split(\",\")\n",
    "        data_array.append(line_split)\n",
    "    return data_array"
   ]
  },
  {
   "cell_type": "code",
   "execution_count": 556,
   "metadata": {},
   "outputs": [
    {
     "name": "stdout",
     "output_type": "stream",
     "text": [
      "[['1', '24', '1757', '6056', '2', '899', '3', '3', '94085', '894'], ['2', '10', '1563', '6085', '2', '959', '4', '3', '94085', '861'], ['3', '14', '1344', '6089', '2', '865', '4', '3', '94085', '831'], ['4', '14', '1215', '6129', '3', '959', '4', '2', '94085', '809'], ['5', '24', '1866', '6141', '3', '877', '4', '1', '94085', '890'], ['6', '18', '1589', '6148', '2', '920', '3', '0', '94085', '867']]\n"
     ]
    }
   ],
   "source": [
    "housing_data2 = read_file_housing(\"bayarea_home_prices.csv\")\n",
    "print(housing_data2[0:6])"
   ]
  },
  {
   "cell_type": "code",
   "execution_count": 557,
   "metadata": {},
   "outputs": [
    {
     "name": "stdout",
     "output_type": "stream",
     "text": [
      "100\n"
     ]
    }
   ],
   "source": [
    "len_housing_data2 = len(housing_data2)\n",
    "print(len_housing_data2)"
   ]
  },
  {
   "cell_type": "code",
   "execution_count": 558,
   "metadata": {},
   "outputs": [],
   "source": [
    "list_ZipCode2 = []\n",
    "# for all rows, extract all zipcodes\n",
    "for k in range(0,len_housing_data2):\n",
    "    list_ZipCode2.append(int(housing_data2[k][8]))  "
   ]
  },
  {
   "cell_type": "code",
   "execution_count": 559,
   "metadata": {},
   "outputs": [
    {
     "name": "stdout",
     "output_type": "stream",
     "text": [
      "[94085, 94085, 94085, 94085, 94085, 94085, 94085, 94085, 94085, 94085, 94085, 94085, 94085, 94085, 94085, 95051, 94085, 94085, 95051, 94085, 94085, 94085, 94085, 95051, 94085, 94085, 94085, 95051, 94085, 95051, 95051, 95051, 95051, 95051, 95051, 95051, 85051, 95051, 95051, 95051, 94087, 94087, 95051, 95051, 95051, 94087, 95051, 94087, 94087, 95051, 95051, 95051, 85051, 94087, 95051, 94087, 94087, 94087, 95051, 94087, 94087, 94087, 94087, 94087, 94087, 95014, 94087, 94087, 94087, 94087, 95014, 94087, 95014, 95014, 84087, 84087, 95014, 94087, 94087, 94087, 95014, 95014, 95014, 95014, 85014, 95014, 95014, 95014, 85014, 95014, 95014, 95014, 95014, 95014, 95014, 95014, 95014, 95014, 95014, 95014]\n"
     ]
    }
   ],
   "source": [
    "print(list_ZipCode2) # Converted to numbers"
   ]
  },
  {
   "cell_type": "markdown",
   "metadata": {},
   "source": [
    "<h1> <b><font color = coral>&#9998; <font color = coral>EXERCISE 9:</h1></font>"
   ]
  },
  {
   "cell_type": "code",
   "execution_count": 560,
   "metadata": {},
   "outputs": [
    {
     "name": "stdout",
     "output_type": "stream",
     "text": [
      "distinct zipcodes: {95051, 94085, 95014, 94087}\n",
      "95051 , 25\n",
      "94085 , 25\n",
      "95014 , 25\n",
      "94087 , 25\n"
     ]
    }
   ],
   "source": [
    "\"\"\"\n",
    "The above example shows correcting 84085 -> 94085\n",
    "Perform other zip code corrections: \n",
    "84087 -> 94087,\n",
    "85014 -> 95014,\n",
    "85051 -> 95051\n",
    "Create a table for zip code distribution after corrections:\n",
    "After:Zipcode,House_Count\n",
    "94085,25\n",
    "94087,25\n",
    "95051,25\n",
    "95014,25\n",
    "\"\"\"\n",
    "#Your answer here\n",
    "def read_file_housing(filename):\n",
    "    file_open = open(filename,\"r\")\n",
    "    data_array = []\n",
    "    for line in iter(file_open):\n",
    "        if \"HomeID\" in line:\n",
    "            continue\n",
    "        line_no_newline = line.rstrip()\n",
    "        #line2 = line_no_newline.replace(\"84087\",\"94087\")\n",
    "        #line2 = line_no_newline.replace(\"85014\",\"95014\")\n",
    "        #line2 = line_no_newline.replace(\"85051\",\"95051\")\n",
    "        line2 = line_no_newline.split(\",\")\n",
    "        #line_split = line2.replace(\"84085\",\"94085\")\n",
    "        if line2[8] == '84085' :\n",
    "            line2[8] = 94085\n",
    "        elif line2[8] == '84087' :\n",
    "            line2[8] = 94087\n",
    "        elif line2[8] == '85014' :\n",
    "            line2[8] = 95014\n",
    "        elif line2[8] == '85051' :\n",
    "            line2[8] = 95051\n",
    "        data_array.append(line2)\n",
    "    return data_array\n",
    "\n",
    "housing_data2 = read_file_housing(\"bayarea_home_prices.csv\")\n",
    "#print(housing_data2)\n",
    "lst1 = [int(housing_data2[i][8]) for i in range(0,len(housing_data2)) ]\n",
    "set1 = {int(housing_data2[i][8]) for i in range(0,len(housing_data2)) }\n",
    "#set1 = { lst1 }\n",
    "print(\"distinct zipcodes:\",set1)\n",
    "for x in set1:\n",
    "    print(x,\",\",lst1.count(x))\n",
    "    \n",
    "    "
   ]
  },
  {
   "cell_type": "markdown",
   "metadata": {},
   "source": [
    "<h1> <b><font color = coral>&#9998; <font color = coral>EXERCISE 10:</h1></font>"
   ]
  },
  {
   "cell_type": "code",
   "execution_count": 561,
   "metadata": {},
   "outputs": [
    {
     "name": "stdout",
     "output_type": "stream",
     "text": [
      "distinct zipcodes: {95051, 94085, 95014, 94087}\n",
      "916.68 , 25 , 95051\n",
      "907.0 , 25 , 94085\n",
      "894.8 , 25 , 95014\n",
      "899.24 , 25 , 94087\n"
     ]
    }
   ],
   "source": [
    "\"\"\"\n",
    "Modify function read_file_housing to multiply incorrect SchoolAPI by 10.\n",
    "Assume API value to be incorrect if it is a two digit number.\n",
    "Calculate average School API by zipcode. Print the following:\n",
    "Average_SchoolAPI,Cnt_of_homes,ZipCode\n",
    "xyz,mn,abc\n",
    "\"\"\"\n",
    "#Your answer here\n",
    "def read_file_housing(filename):\n",
    "    file_open = open(filename,\"r\")\n",
    "    data_array = []\n",
    "    for line in iter(file_open):\n",
    "        if \"HomeID\" in line:\n",
    "            continue\n",
    "        line_no_newline = line.rstrip()\n",
    "        #line2 = line_no_newline.replace(\"84087\",\"94087\")\n",
    "        line2 = line_no_newline.split(\",\")\n",
    "        if line2[8] == '84085' :\n",
    "            line2[8] = 94085\n",
    "        elif line2[8] == '84087' :\n",
    "            line2[8] = 94087\n",
    "        elif line2[8] == '85014' :\n",
    "            line2[8] = 95014\n",
    "        elif line2[8] == '85051' :\n",
    "            line2[8] = 95051\n",
    "\n",
    "        if int(line2[5]) < 100 :\n",
    "            line2[5] = int(line2[5])*10\n",
    "        data_array.append(line2)\n",
    "    return data_array\n",
    "\n",
    "housing_data2 = read_file_housing(\"bayarea_home_prices.csv\")\n",
    "#print(housing_data2[8:10])\n",
    "\n",
    "lst1 = [int(housing_data2[i][8]) for i in range(0,len(housing_data2)) ]\n",
    "set1 = {int(housing_data2[i][8]) for i in range(0,len(housing_data2)) }\n",
    "#set1 = { lst1 }\n",
    "print(\"distinct zipcodes:\",set1)\n",
    "for x in set1:\n",
    "    sum = 0\n",
    "    #print(x,\",\",lst1.count(x))\n",
    "    for y in range(0,len(housing_data2)):\n",
    "        if int(housing_data2[y][8]) == x :\n",
    "            sum+=int(housing_data2[y][5])\n",
    "            \n",
    "    print(sum/lst1.count(x),\",\",lst1.count(x),',',x)\n"
   ]
  },
  {
   "cell_type": "markdown",
   "metadata": {},
   "source": [
    "<h1> <b><font color = coral>&#9998; <font color = coral>EXERCISE 11:</h1></font>"
   ]
  },
  {
   "cell_type": "code",
   "execution_count": 567,
   "metadata": {},
   "outputs": [
    {
     "name": "stdout",
     "output_type": "stream",
     "text": [
      "0 : 31\n",
      "1 : 18\n",
      "2 : 19\n",
      "3 : 32\n"
     ]
    }
   ],
   "source": [
    "\"\"\"\n",
    "Modify function read_file_housing to replace CarGarage value of 'l' with integer 1\n",
    "Calculate and print the following:\n",
    "Car_Garage,Cnt_of_homes\n",
    "0,m\n",
    "1,n\n",
    "2,o\n",
    "3,p\n",
    "\"\"\"\n",
    "\n",
    "def read_file_housing(filename):\n",
    "    file_open = open(filename,\"r\")\n",
    "    data_array = []\n",
    "    for line in file_open:\n",
    "        if \"HomeID\" in line:\n",
    "            continue\n",
    "        line_no_newline = line.rstrip()\n",
    "        #line2 = line_no_newline.replace(\"84087\",\"94087\")\n",
    "        line2 = line_no_newline.split(\",\")\n",
    "        if line2[8] == '84085' :\n",
    "            line2[8] = 94085\n",
    "        elif line2[8] == '84087' :\n",
    "            line2[8] = 94087\n",
    "        elif line2[8] == '85014' :\n",
    "            line2[8] = 95014\n",
    "        elif line2[8] == '85051' :\n",
    "            line2[8] = 95051\n",
    "\n",
    "        if int(line2[5]) < 100 :\n",
    "            line2[5] = int(line2[5])*10\n",
    "        if line2[7] == 'l':\n",
    "            line2[7] = 1\n",
    "        data_array.append(line2)\n",
    "    return data_array\n",
    "\n",
    "housing_data2 = read_file_housing(\"bayarea_home_prices.csv\")\n",
    "#print(housing_data2[11:14])\n",
    "set1 = {int(housing_data2[i][7]) for i in range(0,len(housing_data2)) }\n",
    "#print(set1)\n",
    "lst1 = [int(housing_data2[i][7]) for i in range(0,len(housing_data2)) ]\n",
    "\n",
    "for i in set1 :\n",
    "    print(i,':',lst1.count(i))\n"
   ]
  },
  {
   "cell_type": "markdown",
   "metadata": {},
   "source": [
    "<h1> <b><font color = coral>&#9998; <font color = coral>EXERCISE 12:</h1></font>"
   ]
  },
  {
   "cell_type": "code",
   "execution_count": 563,
   "metadata": {},
   "outputs": [
    {
     "name": "stdout",
     "output_type": "stream",
     "text": [
      "1023.2 K, 25 , 95051\n",
      "885.96 K, 25 , 94085\n",
      "1263.32 K, 25 , 95014\n",
      "1151.48 K, 25 , 94087\n"
     ]
    }
   ],
   "source": [
    "\"\"\"\n",
    "Find the average price of a home in this four zip codes area.\n",
    "Zipcode,Avg_Price,Cnt_of_homes\n",
    "\"\"\"\n",
    "def read_file_housing(filename):\n",
    "    file_open = open(filename,\"r\")\n",
    "    data_array = []\n",
    "    for line in iter(file_open):\n",
    "        if \"HomeID\" in line:\n",
    "            continue\n",
    "        line_no_newline = line.rstrip()\n",
    "        #line2 = line_no_newline.replace(\"84087\",\"94087\")\n",
    "        line2 = line_no_newline.split(\",\")\n",
    "        if line2[8] == '84085' :\n",
    "            line2[8] = 94085\n",
    "        elif line2[8] == '84087' :\n",
    "            line2[8] = 94087\n",
    "        elif line2[8] == '85014' :\n",
    "            line2[8] = 95014\n",
    "        elif line2[8] == '85051' :\n",
    "            line2[8] = 95051\n",
    "\n",
    "        if int(line2[5]) < 100 :\n",
    "            line2[5] = int(line2[5])*10\n",
    "        if line2[7] == 'l':\n",
    "            line2[7] = 1\n",
    "        data_array.append(line2)\n",
    "    return data_array\n",
    "\n",
    "lst1 = [int(housing_data2[i][8]) for i in range(0,len(housing_data2)) ]\n",
    "set1 = {int(housing_data2[i][8]) for i in range(0,len(housing_data2)) }\n",
    "#set1 = { lst1 }\n",
    "#print(\"distinct zipcodes:\",set1)\n",
    "for x in set1:\n",
    "    sum = 0\n",
    "    #print(x,\",\",lst1.count(x))\n",
    "    for y in range(0,len(housing_data2)):\n",
    "        if int(housing_data2[y][8]) == x :\n",
    "           sum+=int(housing_data2[y][9])\n",
    "    print(sum/lst1.count(x),\"K,\",lst1.count(x),',',x)\n",
    "\n"
   ]
  },
  {
   "cell_type": "markdown",
   "metadata": {},
   "source": [
    "<h1> <b><font color = coral>&#9998; <font color = coral>EXERCISE 13:</h1></font>"
   ]
  },
  {
   "cell_type": "code",
   "execution_count": 573,
   "metadata": {},
   "outputs": [
    {
     "name": "stdout",
     "output_type": "stream",
     "text": [
      "The average house price in Sunnyvale based on 50 homes is $ 1019 (thousands)\n"
     ]
    }
   ],
   "source": [
    "\"\"\"\n",
    "Find the average price of a home in Sunnyvale (94087 and 94085).\n",
    "Print the output as follows:\n",
    "The average house price in Sunnyvale based on xx homes is $yyy (thousands).\n",
    "\"\"\"\n",
    "\n",
    "def read_file_housing(filename):\n",
    "    file_open = open(filename,\"r\")\n",
    "    data_array = []\n",
    "    for line in iter(file_open):\n",
    "        if \"HomeID\" in line:\n",
    "            continue\n",
    "        line_no_newline = line.rstrip()\n",
    "        #line2 = line_no_newline.replace(\"84087\",\"94087\")\n",
    "        line2 = line_no_newline.split(\",\")\n",
    "        if line2[8] == '84085' :\n",
    "            line2[8] = 94085\n",
    "        elif line2[8] == '84087' :\n",
    "            line2[8] = 94087\n",
    "        elif line2[8] == '85014' :\n",
    "            line2[8] = 95014\n",
    "        elif line2[8] == '85051' :\n",
    "            line2[8] = 95051\n",
    "\n",
    "        if int(line2[5]) < 100 :\n",
    "            line2[5] = int(line2[5])*10\n",
    "        if line2[7] == 'l':\n",
    "            line2[7] = 1\n",
    "        data_array.append(line2)\n",
    "        file_open.close()\n",
    "    return data_array\n",
    "\n",
    "lst1 = [int(housing_data2[i][8]) for i in range(0,len(housing_data2)) ]\n",
    "set1 = {int(housing_data2[i][8]) for i in range(0,len(housing_data2)) }\n",
    "#set1 = { lst1 }\n",
    "#print(\"distinct zipcodes:\",set1)\n",
    "for x in set1:\n",
    "    sum = 0\n",
    "    #print(x,\",\",lst1.count(x))\n",
    "    for y in range(0,len(housing_data2)):\n",
    "        if (int(housing_data2[y][8]) == 94087) | (int(housing_data2[y][8]) == 94085) :\n",
    "           sum+=int(housing_data2[y][9])\n",
    "no_of_synny_homes=(lst1.count(94087) + lst1.count(94085))\n",
    "print(\"The average house price in Sunnyvale based on\",no_of_synny_homes,\"homes is $\",int(round(sum/no_of_synny_homes,0)),\"(thousands)\")\n",
    "\n"
   ]
  },
  {
   "cell_type": "code",
   "execution_count": null,
   "metadata": {},
   "outputs": [],
   "source": []
  }
 ],
 "metadata": {
  "kernelspec": {
   "display_name": "Python 3",
   "language": "python",
   "name": "python3"
  },
  "language_info": {
   "codemirror_mode": {
    "name": "ipython",
    "version": 3
   },
   "file_extension": ".py",
   "mimetype": "text/x-python",
   "name": "python",
   "nbconvert_exporter": "python",
   "pygments_lexer": "ipython3",
   "version": "3.6.5"
  }
 },
 "nbformat": 4,
 "nbformat_minor": 2
}
